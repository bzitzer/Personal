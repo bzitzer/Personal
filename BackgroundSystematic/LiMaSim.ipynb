import math as mt
import matplotlib.pyplot as plt
from scipy.optimize import curve_fit
from scipy.stats import norm
import numpy as np
import matplotlib.mlab as mlab

def gaus(x,a,x0,sigma):
    return a*exp(-(x-x0)**2/(2*sigma**2))

def lima(Non,Noff,alpha):
    if(Non == Noff*alpha):
        return(0)
    S = mt.sqrt(2)*mt.sqrt(Non*mt.log(Non*(1+alpha)/(alpha*(Non+Noff))) + Noff*mt.log(Noff*(1+alpha)/(Non+Noff)))
    if(Non < Noff*alpha):
        S *= -1.0
    return(S)

Rbg = 3.0 # bg rate 1/min
Exp = 100.0*60 # minutes 
alpha0 = 0.2
sigma_alpha = 0.01*alpha0 # error in the alpha
NMax = 10000
#print(np.random.poisson(int(Rbg*Exp),100))
Non = np.random.poisson(Rbg*Exp,NMax)
Noff = np.random.poisson(Rbg*Exp/alpha0,NMax)
alpha = np.random.normal(alpha0,sigma_alpha,NMax)

S_array = np.array([])
for i in range(1,NMax):
    #print('Non',Non[i],'Noff',Noff[i],'Excess',Non[i]-alpha*Noff[i])
    S = lima(Non[i],Noff[i],alpha[i])
    S_array = np.append(S_array,[S])
    #print("Significance",S)
(mu,sigma) = norm.fit(S_array)

print('mu',mu,'sigma',sigma)
print('Array',S_array)
n, bins, patches = plt.hist(S_array,normed=True,bins=100)
print('bins',bins)
print('n',n)
y = mlab.normpdf(bins,mu,sigma)
#l = plt.semilogy(bins, y, 'r--', linewidth=2)
l = plt.plot(bins,y,'r--',linewidth=2)
plt.show()
